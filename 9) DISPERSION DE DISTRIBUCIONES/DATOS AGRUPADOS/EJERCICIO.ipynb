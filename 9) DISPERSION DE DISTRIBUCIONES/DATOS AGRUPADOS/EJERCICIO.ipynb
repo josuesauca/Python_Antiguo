{
 "cells": [
  {
   "cell_type": "code",
   "execution_count": 1,
   "metadata": {},
   "outputs": [
    {
     "name": "stdout",
     "output_type": "stream",
     "text": [
      "EL RANGO ES LA RESTA DEL VALOR MAXIMO DE UN CONJUNTO DE DATOS Y EL MINIMO 159 - 190 , su resultado : 31\n"
     ]
    }
   ],
   "source": [
    "#RANGO PARA DATOS AGRUPADOS\n",
    "\n",
    "\"\"\"\n",
    "ENCONTRAR LOS DATOS AGRUPADOS DE LA SIGUIENTE TABLA : \n",
    "\n",
    "|| ALTURA(CM)      ||    Fi    ||\n",
    "|| 159 cm - 164 cm ||    5     ||\n",
    "|| 165 cm - 169 cm ||    15    ||\n",
    "|| 170 cm - 175 cm ||    20    ||\n",
    "|| 176 cm - 180 cm ||    10    ||\n",
    "|| 181 cm - 184 cm ||    9     ||\n",
    "|| 185 cm - 190 cm ||    4     ||\n",
    "|| TOTAL           ||    63    ||\n",
    "\"\"\"\n",
    "\n",
    "def main():\n",
    "    Lmin = 159\n",
    "    Lmax = 190\n",
    "    Rango = (Lmax) - Lmin\n",
    "    print(f\"EL RANGO ES LA RESTA DEL VALOR MAXIMO DE UN CONJUNTO DE DATOS Y EL MINIMO {Lmin} - {Lmax} , su resultado : {Rango}\")\n",
    "\n",
    "if __name__ == \"__main__\":\n",
    "    main()\n"
   ]
  },
  {
   "cell_type": "code",
   "execution_count": null,
   "metadata": {},
   "outputs": [],
   "source": []
  }
 ],
 "metadata": {
  "kernelspec": {
   "display_name": "Python 3",
   "language": "python",
   "name": "python3"
  },
  "language_info": {
   "codemirror_mode": {
    "name": "ipython",
    "version": 3
   },
   "file_extension": ".py",
   "mimetype": "text/x-python",
   "name": "python",
   "nbconvert_exporter": "python",
   "pygments_lexer": "ipython3",
   "version": "3.8.3"
  }
 },
 "nbformat": 4,
 "nbformat_minor": 4
}
