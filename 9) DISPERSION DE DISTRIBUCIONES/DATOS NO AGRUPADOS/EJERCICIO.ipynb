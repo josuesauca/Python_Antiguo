{
 "cells": [
  {
   "cell_type": "code",
   "execution_count": 1,
   "metadata": {},
   "outputs": [
    {
     "name": "stdout",
     "output_type": "stream",
     "text": [
      "EL RANGO ES LA RESTA DEL VALOR MAXIMO DE UN CONJUNTO DE DATOS Y EL MINIMO 0    12\n",
      "dtype: int64 - 0    28\n",
      "dtype: int64 , su resultado : 0    16\n",
      "dtype: int64\n"
     ]
    }
   ],
   "source": [
    "#RANGO MEDIDAS DE DISPERSION DE DATOS NO AGRUPADOS\n",
    "\n",
    "import pandas as pd\n",
    "\n",
    "def main():\n",
    "    datos = [12,15,17,23,25,28]\n",
    "    df = pd.DataFrame(datos)\n",
    "    print(f\"EL RANGO ES LA RESTA DEL VALOR MAXIMO DE UN CONJUNTO DE DATOS Y EL MINIMO {df.min()} - {df.max()} , su resultado : {df.max() - df.min()}\")\n",
    "\n",
    "if __name__ == \"__main__\":\n",
    "    main()\n",
    "\n",
    "\n"
   ]
  },
  {
   "cell_type": "code",
   "execution_count": null,
   "metadata": {},
   "outputs": [],
   "source": []
  }
 ],
 "metadata": {
  "kernelspec": {
   "display_name": "Python 3",
   "language": "python",
   "name": "python3"
  },
  "language_info": {
   "codemirror_mode": {
    "name": "ipython",
    "version": 3
   },
   "file_extension": ".py",
   "mimetype": "text/x-python",
   "name": "python",
   "nbconvert_exporter": "python",
   "pygments_lexer": "ipython3",
   "version": "3.8.3"
  }
 },
 "nbformat": 4,
 "nbformat_minor": 4
}
