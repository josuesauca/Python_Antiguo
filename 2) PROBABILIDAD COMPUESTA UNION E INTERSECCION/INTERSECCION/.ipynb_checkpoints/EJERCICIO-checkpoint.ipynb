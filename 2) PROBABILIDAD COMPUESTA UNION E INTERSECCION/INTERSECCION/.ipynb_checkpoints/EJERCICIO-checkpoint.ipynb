{
 "cells": [
  {
   "cell_type": "code",
   "execution_count": 1,
   "metadata": {},
   "outputs": [
    {
     "name": "stdout",
     "output_type": "stream",
     "text": [
      "EL VALOR DE LA PROBABILIDAD DE OBTENER UN 1 ES DE : 0.3333333333333333\n"
     ]
    }
   ],
   "source": [
    "\"\"\"\n",
    "DETERMINE EL VALOR DE LA PROBABILIDAD DE OBTENER UN 1,\n",
    "SABIENDO QUE HA SALIDO UN NUMERO IMPAR AL LANZAR UN DADO AL AIRE\n",
    "\"\"\"\n",
    "#INTERSECCION\n",
    "\n",
    "\n",
    "def main():\n",
    "    \n",
    "    P_A = \"AL LANZAR UN DADO, EL RESULTADO ES IMPAR\"\n",
    "    A = [1,3,5]\n",
    "\n",
    "    P_B = \"QUE SALGA EL NUMERO 1\"\n",
    "    B = [1]\n",
    "\n",
    "    P_A_INTERSECCION_B = P_A + \", Y \" + P_B\n",
    "    A_INTERSECCION_B = []\n",
    "    \n",
    "    contador = 0\n",
    "    for i in A:\n",
    "        if(i == B[contador]):\n",
    "            A_INTERSECCION_B = B[contador]\n",
    "            break\n",
    "\n",
    "\n",
    "    P_A = len(A) / 6\n",
    "    P__A__INTERSECCION__B = len(B)/6\n",
    "\n",
    "    P_B_A = P__A__INTERSECCION__B/P_A\n",
    "    print(f\"EL VALOR DE LA PROBABILIDAD DE OBTENER UN {A_INTERSECCION_B} ES DE : {P_B_A}\")\n",
    "\n",
    "\n",
    "if __name__ == \"__main__\":\n",
    "    main()\n"
   ]
  },
  {
   "cell_type": "code",
   "execution_count": null,
   "metadata": {},
   "outputs": [],
   "source": []
  }
 ],
 "metadata": {
  "kernelspec": {
   "display_name": "Python 3",
   "language": "python",
   "name": "python3"
  },
  "language_info": {
   "codemirror_mode": {
    "name": "ipython",
    "version": 3
   },
   "file_extension": ".py",
   "mimetype": "text/x-python",
   "name": "python",
   "nbconvert_exporter": "python",
   "pygments_lexer": "ipython3",
   "version": "3.8.3"
  }
 },
 "nbformat": 4,
 "nbformat_minor": 4
}
