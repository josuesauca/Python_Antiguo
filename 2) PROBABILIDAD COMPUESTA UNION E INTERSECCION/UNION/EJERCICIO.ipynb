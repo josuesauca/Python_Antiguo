{
 "cells": [
  {
   "cell_type": "code",
   "execution_count": 1,
   "metadata": {},
   "outputs": [
    {
     "name": "stdout",
     "output_type": "stream",
     "text": [
      "\n",
      "LA PROBABILIDAD DE QUE AL ELEGIR UN PRODUCTO Y QUE ESTE SEA EMBUTIDOS Y LACTEO ES DE : 0.27\n"
     ]
    }
   ],
   "source": [
    "#UNION\n",
    "\n",
    "\"\"\"\n",
    "UN 20% DE LOS PRODUCTOS VENDIDOS EN UNA TIENDA SON LACTEOS, Y UN 17% SON \n",
    "EMBUTIDOS Y UN 10% SON LACTEROS Y EMBUTIDOS.\n",
    "¿QUE PROBABILIDAD HAY DE QUE ELEGIDO UN PRODUCTO AL AZAR SEA LACTEO O EMBUTIDO?\n",
    "\"\"\"\n",
    "\n",
    "\n",
    "def main():\n",
    "\n",
    "    a = \"LACTEO\"\n",
    "    P_a = 20\n",
    "    p_a = 20/100\n",
    " \n",
    "    b = \"EMBUTIDOS\"\n",
    "    P_b = 17 \n",
    "    p_b = 17/100\n",
    "\n",
    "    a_interseccion_b = a + \" Y \" + b\n",
    "    P_a_interseccion_b = 10\n",
    "    p_a_interseccion_b = 10/100\n",
    "\n",
    "    P_a_union_b = p_a + p_b - p_a_interseccion_b\n",
    "    print(f\"\\nLA PROBABILIDAD DE QUE AL ELEGIR UN PRODUCTO Y QUE ESTE SEA {b} Y {a} ES DE : {P_a_union_b}\")\n",
    "\n",
    "if __name__ == \"__main__\":\n",
    "    main()\n",
    "\n"
   ]
  },
  {
   "cell_type": "code",
   "execution_count": null,
   "metadata": {},
   "outputs": [],
   "source": []
  }
 ],
 "metadata": {
  "kernelspec": {
   "display_name": "Python 3",
   "language": "python",
   "name": "python3"
  },
  "language_info": {
   "codemirror_mode": {
    "name": "ipython",
    "version": 3
   },
   "file_extension": ".py",
   "mimetype": "text/x-python",
   "name": "python",
   "nbconvert_exporter": "python",
   "pygments_lexer": "ipython3",
   "version": "3.8.3"
  }
 },
 "nbformat": 4,
 "nbformat_minor": 4
}
