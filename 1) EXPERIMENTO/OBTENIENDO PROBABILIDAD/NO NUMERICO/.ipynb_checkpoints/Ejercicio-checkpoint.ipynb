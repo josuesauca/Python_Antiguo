{
 "cells": [
  {
   "cell_type": "code",
   "execution_count": 1,
   "metadata": {},
   "outputs": [
    {
     "name": "stdout",
     "output_type": "stream",
     "text": [
      "['Verde', 'Amarillo']\n",
      "Digite el color de la pelota que desea elegir : amarillo\n",
      "Es un suceso seguro\n",
      "Digite el color de la pelota que desea elegir : verde\n",
      "Es un suceso Seguro\n",
      "Digite el color de la pelota que desea elegir : rojo\n",
      "La pelota de color rojo no se encuentra en este conjunto,por lo tanto es un suceso implosible de encontrarla\n"
     ]
    }
   ],
   "source": [
    "\n",
    "\"\"\"\n",
    "Tomar una pelota al azar con los ojos cerrados \n",
    "\"\"\"\n",
    "\n",
    "\n",
    "def main():\n",
    "    primer_conjunto = \"Verde\"\n",
    "    segundo_conjunto = \"Amarillo\"\n",
    "    espacio_muestra = [primer_conjunto,segundo_conjunto]\n",
    "    bandera = True\n",
    "    print(espacio_muestra)\n",
    "    \n",
    "    while(bandera):\n",
    "        color_pelota = input(\"Digite el color de la pelota que desea elegir : \")\n",
    "        if(color_pelota == \"Verde\" or color_pelota == \"verde\"):\n",
    "            print(\"Es un suceso Seguro\")\n",
    "        else:   \n",
    "            if(color_pelota == \"Amarillo\" or color_pelota == \"amarillo\"):\n",
    "                print(\"Es un suceso seguro\")\n",
    "            else:         \n",
    "                if((color_pelota != \"Verde\" or color_pelota != \"verde\") and (color_pelota != \"Amarillo\" or color_pelota != \"amarillo\")):\n",
    "                    print(f\"La pelota de color {color_pelota} no se encuentra en este conjunto,por lo tanto es un suceso implosible de encontrarla\")\n",
    "                    bandera = False\n",
    "\n",
    "if __name__ == \"__main__\":\n",
    "    main()\n",
    "\n"
   ]
  },
  {
   "cell_type": "code",
   "execution_count": null,
   "metadata": {},
   "outputs": [],
   "source": []
  }
 ],
 "metadata": {
  "kernelspec": {
   "display_name": "Python 3",
   "language": "python",
   "name": "python3"
  },
  "language_info": {
   "codemirror_mode": {
    "name": "ipython",
    "version": 3
   },
   "file_extension": ".py",
   "mimetype": "text/x-python",
   "name": "python",
   "nbconvert_exporter": "python",
   "pygments_lexer": "ipython3",
   "version": "3.8.3"
  }
 },
 "nbformat": 4,
 "nbformat_minor": 4
}
