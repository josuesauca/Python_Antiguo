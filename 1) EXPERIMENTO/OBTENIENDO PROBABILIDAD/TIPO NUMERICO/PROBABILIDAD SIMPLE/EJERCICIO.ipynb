{
 "cells": [
  {
   "cell_type": "code",
   "execution_count": 1,
   "metadata": {},
   "outputs": [
    {
     "name": "stdout",
     "output_type": "stream",
     "text": [
      "La probabilidad de que salga un 3 es de :  1 / 6\n"
     ]
    }
   ],
   "source": [
    "\n",
    "\"\"\"\n",
    "La probabilidad de que al lanzar un dado , salga el numero 3\n",
    "\n",
    "\"\"\"\n",
    "\n",
    "def main():\n",
    "    dado = [1,2,3,4,5,6]\n",
    "\n",
    "    contador = 0\n",
    "\n",
    "    for i in dado:\n",
    "        if(i==3):\n",
    "            contador = contador + 1\n",
    "\n",
    "    print(f\"La probabilidad de que salga un {dado[2]} es de : \",contador,\"/\",len(dado))\n",
    "\n",
    "if __name__ == \"__main__\":\n",
    "    main()"
   ]
  },
  {
   "cell_type": "code",
   "execution_count": 2,
   "metadata": {},
   "outputs": [
    {
     "name": "stdout",
     "output_type": "stream",
     "text": [
      "La probabilidad de que salga un numero primo es de : 3/6\n"
     ]
    }
   ],
   "source": [
    "\n",
    "\"\"\"\n",
    "La probabilidad de que salga un numero primo en el dado\n",
    "\"\"\"\n",
    "\n",
    "def verificar_primo(numero_verificar):\n",
    "    es_primo =  True\n",
    "    if(numero_verificar == 1):\n",
    "        es_primo = False\n",
    "        return es_primo\n",
    "    else:\n",
    "        if(numero_verificar == 2):\n",
    "            return es_primo\n",
    "        else:\n",
    "            if(numero_verificar%2==0 and numero_verificar >2):\n",
    "                es_primo = False\n",
    "                return es_primo\n",
    "            else:\n",
    "                for i in range(3,(numero_verificar),2):\n",
    "                    if(numero_verificar %i == 0):\n",
    "                        es_primo = False\n",
    "                        break\n",
    "    return es_primo\n",
    "\n",
    "def main():\n",
    "    dado = [1,2,3,4,5,6]\n",
    "\n",
    "    contador = 0\n",
    "    es_primo = False\n",
    "\n",
    "    for i in dado:\n",
    "        es_primo = verificar_primo(i)\n",
    "        if(es_primo):\n",
    "            contador = contador + 1\n",
    "\n",
    "    print(f\"La probabilidad de que salga un numero primo es de: {contador}/{len(dado)}\")\n",
    "\n",
    "if __name__ == \"__main__\":\n",
    "    main()"
   ]
  },
  {
   "cell_type": "code",
   "execution_count": null,
   "metadata": {},
   "outputs": [],
   "source": []
  }
 ],
 "metadata": {
  "kernelspec": {
   "display_name": "Python 3",
   "language": "python",
   "name": "python3"
  },
  "language_info": {
   "codemirror_mode": {
    "name": "ipython",
    "version": 3
   },
   "file_extension": ".py",
   "mimetype": "text/x-python",
   "name": "python",
   "nbconvert_exporter": "python",
   "pygments_lexer": "ipython3",
   "version": "3.8.3"
  }
 },
 "nbformat": 4,
 "nbformat_minor": 4
}
