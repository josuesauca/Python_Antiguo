{
 "cells": [
  {
   "cell_type": "code",
   "execution_count": 4,
   "metadata": {},
   "outputs": [
    {
     "name": "stdout",
     "output_type": "stream",
     "text": [
      "1) GATO GATO GATO = 0.125\n",
      "2) GATO GATO PERRO = 0.125\n",
      "3) GATO PERRO GATO = 0.125\n",
      "4) GATO PERRO PERRO = 0.125\n",
      "5) PERRO GATO GATO = 0.125\n",
      "6) PERRO GATO PERRO = 0.125\n",
      "7) PERRO PERRO GATO = 0.125\n",
      "8) PERRO PERRO PERRO = 0.125\n",
      "\n",
      "\n",
      "La posibilidad de que salga 3 perros es de : 0.125\n",
      "La probabilidad de obtener un gato es de : 0.375\n"
     ]
    }
   ],
   "source": [
    "\n",
    "\"\"\"\n",
    "Se lanza 3 veces una moneda con dos caras : perro en la cara y gato en el sello.\n",
    "¿Cual es la probabilidad de obtener 3 perros?\n",
    "¿Cual es la probabilidad de obtener 1 gato?\n",
    "\"\"\"\n",
    "\n",
    "\n",
    "def main():\n",
    "    \"\"\"\n",
    "    Posibles sucesos \n",
    "    \"\"\"\n",
    "    #g para gato\n",
    "    g = 1/2\n",
    "    #p para perro\n",
    "    p = 1/2\n",
    "    g_g_g = g * g * g\n",
    "    g_g_p = g * g * p\n",
    "    g_p_g = g * p * g\n",
    "    g_p_p = g * p * p\n",
    "    p_g_g = p * g * g\n",
    "    p_g_p = p * g * p\n",
    "    p_p_g = p * p * g\n",
    "    p_p_p = p * p * p \n",
    "\n",
    "    espacio_muestral = [g_g_g,g_g_p,g_p_g,g_p_p,p_g_g,p_g_p,p_p_g,p_p_p]\n",
    "    espacio_muestral_letras = [\"GATO GATO GATO\",\"GATO GATO PERRO\",\"GATO PERRO GATO\",\"GATO PERRO PERRO\",\"PERRO GATO GATO\",\"PERRO GATO PERRO\",\"PERRO PERRO GATO\",\"PERRO PERRO PERRO\"]\n",
    "    \n",
    "    contador = 0\n",
    "    for i in espacio_muestral_letras:\n",
    "\n",
    "        print(f\"{contador+1}) {i} = {espacio_muestral[contador]}\")\n",
    "        contador = contador + 1\n",
    "    \n",
    "    #Caso 3 perros\n",
    "    print(f\"\\n\\nLa posibilidad de que salga 3 perros es de : {p_p_p}\")\n",
    "\n",
    "    #Caso 1 gato\n",
    "    obtener_un_gato = g_p_p + p_g_p + p_p_g\n",
    "    print(f\"La probabilidad de obtener un gato es de : {obtener_un_gato}\")\n",
    "\n",
    "if __name__ == \"__main__\":\n",
    "    main()\n",
    " "
   ]
  },
  {
   "cell_type": "code",
   "execution_count": null,
   "metadata": {},
   "outputs": [],
   "source": []
  }
 ],
 "metadata": {
  "kernelspec": {
   "display_name": "Python 3",
   "language": "python",
   "name": "python3"
  },
  "language_info": {
   "codemirror_mode": {
    "name": "ipython",
    "version": 3
   },
   "file_extension": ".py",
   "mimetype": "text/x-python",
   "name": "python",
   "nbconvert_exporter": "python",
   "pygments_lexer": "ipython3",
   "version": "3.8.3"
  }
 },
 "nbformat": 4,
 "nbformat_minor": 4
}
