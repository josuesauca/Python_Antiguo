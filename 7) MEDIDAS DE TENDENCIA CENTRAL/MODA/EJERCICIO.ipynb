{
 "cells": [
  {
   "cell_type": "code",
   "execution_count": 6,
   "metadata": {},
   "outputs": [
    {
     "name": "stdout",
     "output_type": "stream",
     "text": [
      "DE LA LISTA : [1, 1, 1, 2, 2, 2, 3, 3, 4]\n",
      "\n",
      "LOS NUMEROS QUE MAS SE REPITEN SON : 1 Y 2\n"
     ]
    }
   ],
   "source": [
    "\"\"\"\n",
    "DEL SIGUEINTE CONJUNTO DE DATOS ENCUENTRE LA MODA\n",
    "\"\"\"\n",
    "def moda(datos):\n",
    "    print(f\"DE LA LISTA : {datos}\\n\")\n",
    "    print(f\"LOS NUMEROS QUE MAS SE REPITEN SON : {datos[0]} Y {datos[3]}\")\n",
    "\n",
    "def main():\n",
    "    datos = [1,1,1,2,2,2,3,3,4]\n",
    "    moda(datos)\n",
    "\n",
    "if __name__ == \"__main__\":\n",
    "    main()\n"
   ]
  },
  {
   "cell_type": "code",
   "execution_count": null,
   "metadata": {},
   "outputs": [],
   "source": []
  }
 ],
 "metadata": {
  "kernelspec": {
   "display_name": "Python 3",
   "language": "python",
   "name": "python3"
  },
  "language_info": {
   "codemirror_mode": {
    "name": "ipython",
    "version": 3
   },
   "file_extension": ".py",
   "mimetype": "text/x-python",
   "name": "python",
   "nbconvert_exporter": "python",
   "pygments_lexer": "ipython3",
   "version": "3.8.3"
  }
 },
 "nbformat": 4,
 "nbformat_minor": 4
}
