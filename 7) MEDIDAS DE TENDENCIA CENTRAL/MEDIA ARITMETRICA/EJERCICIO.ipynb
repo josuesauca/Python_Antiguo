{
 "cells": [
  {
   "cell_type": "code",
   "execution_count": 1,
   "metadata": {},
   "outputs": [
    {
     "name": "stdout",
     "output_type": "stream",
     "text": [
      "LA MEDIA DE LOS DATOS ES : 1.9836065573770492\n"
     ]
    }
   ],
   "source": [
    "\"MEDIA ARITMETRICA\"\n",
    "\n",
    "\"\"\"\n",
    "OBTENER LA MEDIA DEL SIGUIENTE CONJUNTO DE DATOS\n",
    "\"\"\"\n",
    "\n",
    "def media_aritmetrica(datos):\n",
    "    return sum(datos)/len(datos)\n",
    "\n",
    "def main():\n",
    "    datos = [0,0,0,0,0,0,0,0,0,0,0,0,0,0,0\n",
    "            ,1,1,1,1,1,1,1,1,1,1,1,1,1,1\n",
    "            ,2,2,2,2,2,2,2,2,2,2,2,\n",
    "            3,3,3,3,3,3,3,3,3,\n",
    "            4,4,4,4,4,4\n",
    "            ,5,5,5,\n",
    "            6,6,\n",
    "            7]\n",
    "    print(f\"LA MEDIA DE LOS DATOS ES : {media_aritmetrica(datos)}\")\n",
    "\n",
    "if __name__ == \"__main__\":\n",
    "    main()\n"
   ]
  },
  {
   "cell_type": "code",
   "execution_count": null,
   "metadata": {},
   "outputs": [],
   "source": []
  }
 ],
 "metadata": {
  "kernelspec": {
   "display_name": "Python 3",
   "language": "python",
   "name": "python3"
  },
  "language_info": {
   "codemirror_mode": {
    "name": "ipython",
    "version": 3
   },
   "file_extension": ".py",
   "mimetype": "text/x-python",
   "name": "python",
   "nbconvert_exporter": "python",
   "pygments_lexer": "ipython3",
   "version": "3.8.3"
  }
 },
 "nbformat": 4,
 "nbformat_minor": 4
}
