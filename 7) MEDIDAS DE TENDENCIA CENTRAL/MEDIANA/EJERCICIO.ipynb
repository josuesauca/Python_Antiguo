{
 "cells": [
  {
   "cell_type": "code",
   "execution_count": 11,
   "metadata": {},
   "outputs": [
    {
     "name": "stdout",
     "output_type": "stream",
     "text": [
      "2\n"
     ]
    }
   ],
   "source": [
    "import statistics as stats\n",
    "\n",
    "def mediana(datos):\n",
    "    if(len(datos) % 2 == 0):\n",
    "        return (datos[int(len(datos)/2)] + datos[int((len(datos)+ 1)/2)])/2\n",
    "    else:\n",
    "        return datos[(len(datos)+1)/2]\n",
    "\n",
    "def media_pandas(datos):\n",
    "    print(stats.median(datos))\n",
    "\n",
    "def main():\n",
    "    datos = [1,1,1,2,2,1,3,3,4]\n",
    "    media_pandas(datos)\n",
    "    #mediana(datos)\n",
    "\n",
    "if __name__ == \"__main__\":\n",
    "    main()\n"
   ]
  },
  {
   "cell_type": "code",
   "execution_count": null,
   "metadata": {},
   "outputs": [],
   "source": []
  }
 ],
 "metadata": {
  "kernelspec": {
   "display_name": "Python 3",
   "language": "python",
   "name": "python3"
  },
  "language_info": {
   "codemirror_mode": {
    "name": "ipython",
    "version": 3
   },
   "file_extension": ".py",
   "mimetype": "text/x-python",
   "name": "python",
   "nbconvert_exporter": "python",
   "pygments_lexer": "ipython3",
   "version": "3.8.3"
  }
 },
 "nbformat": 4,
 "nbformat_minor": 4
}
