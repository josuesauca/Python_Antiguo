{
 "cells": [
  {
   "cell_type": "code",
   "execution_count": 3,
   "metadata": {},
   "outputs": [
    {
     "name": "stdout",
     "output_type": "stream",
     "text": [
      "5040\n"
     ]
    }
   ],
   "source": [
    "\n",
    "\"\"\"\n",
    "1. ¿Del conjunto de elementos a,b,c,d,e,f,g, cuantas permutaciones se pueden hacer?\n",
    "\"\"\"\n",
    "\n",
    "#Funcion para calcular el factorial del numero que llega como parametro\n",
    "def factorial_numero(numero):\n",
    "    factorial = 1\n",
    "    for i in range(1,numero+1,1):\n",
    "        factorial = factorial * i\n",
    "    return factorial\n",
    "    \n",
    "\n",
    "#Metodo main encargado de ejecutar el programa\n",
    "if __name__ == \"__main__\":\n",
    "\n",
    "    numero_elementos = 7\n",
    "    respuesta = factorial_numero(numero_elementos)\n",
    "    print(respuesta)\n"
   ]
  },
  {
   "cell_type": "code",
   "execution_count": null,
   "metadata": {},
   "outputs": [],
   "source": []
  }
 ],
 "metadata": {
  "kernelspec": {
   "display_name": "Python 3",
   "language": "python",
   "name": "python3"
  },
  "language_info": {
   "codemirror_mode": {
    "name": "ipython",
    "version": 3
   },
   "file_extension": ".py",
   "mimetype": "text/x-python",
   "name": "python",
   "nbconvert_exporter": "python",
   "pygments_lexer": "ipython3",
   "version": "3.8.3"
  }
 },
 "nbformat": 4,
 "nbformat_minor": 4
}
