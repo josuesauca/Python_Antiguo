{
 "cells": [
  {
   "cell_type": "code",
   "execution_count": 1,
   "metadata": {},
   "outputs": [
    {
     "name": "stdout",
     "output_type": "stream",
     "text": [
      "6545.0\n"
     ]
    }
   ],
   "source": [
    "\"\"\"\n",
    "1. En una clase de 35 alumnos se quiere elegir un comité formado por tres alumnos.\n",
    "¿De cuantas maneras se lo puede elegir?\n",
    "\"\"\"\n",
    "\n",
    "#COMBINACION\n",
    "\n",
    "def factorial_numero(numero):\n",
    "    factorial = 1\n",
    "    for i in range(1,numero+1,1):\n",
    "        factorial = factorial * i\n",
    "    return factorial\n",
    "    \n",
    "\n",
    "def main():\n",
    "    numero_total_elementos = 35\n",
    "    numero_agrupaciones = 3\n",
    "    respuesta = 0\n",
    "\n",
    "    denominador = factorial_numero(numero_total_elementos - numero_agrupaciones) * factorial_numero(numero_agrupaciones) \n",
    "    respuesta =   factorial_numero(numero_total_elementos) / denominador\n",
    "    print(respuesta)\n",
    "\n",
    "\n",
    "if __name__ == \"__main__\":\n",
    "    main()\n",
    "    \n",
    "\n",
    " "
   ]
  },
  {
   "cell_type": "code",
   "execution_count": null,
   "metadata": {},
   "outputs": [],
   "source": []
  }
 ],
 "metadata": {
  "kernelspec": {
   "display_name": "Python 3",
   "language": "python",
   "name": "python3"
  },
  "language_info": {
   "codemirror_mode": {
    "name": "ipython",
    "version": 3
   },
   "file_extension": ".py",
   "mimetype": "text/x-python",
   "name": "python",
   "nbconvert_exporter": "python",
   "pygments_lexer": "ipython3",
   "version": "3.8.3"
  }
 },
 "nbformat": 4,
 "nbformat_minor": 4
}
